{
 "cells": [
  {
   "cell_type": "code",
   "execution_count": 5,
   "id": "84dca907-8e61-4a93-bb9a-2353dee239f0",
   "metadata": {},
   "outputs": [
    {
     "name": "stdin",
     "output_type": "stream",
     "text": [
      "Enter Value 263534874651\n"
     ]
    },
    {
     "name": "stdout",
     "output_type": "stream",
     "text": [
      "276\n"
     ]
    }
   ],
   "source": [
    "x = int(input(\"Enter Value\"))\n",
    "steps = 0\n",
    "while(x!=1):\n",
    "    if x%2 == 0:\n",
    "        x/=2\n",
    "    else:\n",
    "        x = 3*x+1\n",
    "    steps += 1\n",
    "print(steps)"
   ]
  }
 ],
 "metadata": {
  "kernelspec": {
   "display_name": "Python 3 (ipykernel)",
   "language": "python",
   "name": "python3"
  },
  "language_info": {
   "codemirror_mode": {
    "name": "ipython",
    "version": 3
   },
   "file_extension": ".py",
   "mimetype": "text/x-python",
   "name": "python",
   "nbconvert_exporter": "python",
   "pygments_lexer": "ipython3",
   "version": "3.12.0"
  }
 },
 "nbformat": 4,
 "nbformat_minor": 5
}
