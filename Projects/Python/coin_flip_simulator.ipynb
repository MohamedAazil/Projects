{
 "cells": [
  {
   "cell_type": "code",
   "execution_count": 7,
   "id": "c32e1983-a26f-4ae1-8d21-2217b3544270",
   "metadata": {},
   "outputs": [
    {
     "name": "stdin",
     "output_type": "stream",
     "text": [
      "Enter the no. of times to flip the coin 487\n"
     ]
    },
    {
     "name": "stdout",
     "output_type": "stream",
     "text": [
      "Heads: 244\n",
      "Tails: 243\n"
     ]
    }
   ],
   "source": [
    "import numpy as np\n",
    "import random \n",
    "from random import randint as rd \n",
    "times = int(input(\"Enter the no. of times to flip the coin\"))\n",
    "d = []\n",
    "for i in range(times):\n",
    "    if rd(0,1) == 1:\n",
    "        d.append(\"Heads\")\n",
    "    else:\n",
    "        d.append(\"Tails\")\n",
    "print(\"Heads:\",d.count(\"Heads\"))\n",
    "print(\"Tails:\",d.count(\"Tails\"))"
   ]
  }
 ],
 "metadata": {
  "kernelspec": {
   "display_name": "Python 3 (ipykernel)",
   "language": "python",
   "name": "python3"
  },
  "language_info": {
   "codemirror_mode": {
    "name": "ipython",
    "version": 3
   },
   "file_extension": ".py",
   "mimetype": "text/x-python",
   "name": "python",
   "nbconvert_exporter": "python",
   "pygments_lexer": "ipython3",
   "version": "3.12.0"
  }
 },
 "nbformat": 4,
 "nbformat_minor": 5
}
